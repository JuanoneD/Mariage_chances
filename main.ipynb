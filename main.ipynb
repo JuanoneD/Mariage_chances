{
 "cells": [
  {
   "cell_type": "code",
   "execution_count": 39,
   "metadata": {},
   "outputs": [],
   "source": [
    "import numpy as np\n",
    "from numpy import exp\n",
    "import matplotlib.pyplot as plt\n",
    "import pandas as pd"
   ]
  },
  {
   "cell_type": "code",
   "execution_count": 40,
   "metadata": {},
   "outputs": [],
   "source": [
    "df = pd.read_csv(\"marriage_proposal.csv\")\n",
    "\n",
    "height = df[\"Height\"].to_numpy()\n",
    "age = df[\"Age\"].to_numpy()\n",
    "Income = df[\"Income\"].to_numpy()\n",
    "RomanticGestureScore = df[\"RomanticGestureScore\"].to_numpy()\n",
    "CommunicationScore   = df[\"CompatibilityScore\"].to_numpy()\n",
    "DistanceKM  = df[\"DistanceKM\"].to_numpy()\n",
    "Response  = df[\"Response\"].to_numpy()\n",
    "AgeCategory  = np.where(df[\"AgeCategory\"].to_numpy() == 'Young', 0, \n",
    "                    np.where(df[\"AgeCategory\"].to_numpy() == 'Senior', 1, \n",
    "                    np.where(df[\"AgeCategory\"].to_numpy() == 'Middle-aged', 2, -1)))\n"
   ]
  },
  {
   "cell_type": "code",
   "execution_count": 41,
   "metadata": {},
   "outputs": [],
   "source": [
    "numEpocas = 100   \n",
    "q = len(age)               \n",
    "eta = 0.01            \n",
    "m =  7               \n",
    "N = 16    \n",
    "N2 = 8\n",
    "N3 = 4\n",
    "N4 = 2             \n",
    "L = 1   "
   ]
  },
  {
   "cell_type": "code",
   "execution_count": 42,
   "metadata": {},
   "outputs": [],
   "source": [
    "W1 = np.random.random((N, m + 1))\n",
    "W2 = np.random.random((N2, N + 1))\n",
    "W3 = np.random.random((N3, N2 + 1))\n",
    "W4 = np.random.random((N4, N3 + 1))\n",
    "W5 = np.random.random((L, N4 + 1))\n",
    "bias = 1\n",
    "X = np.vstack((height,age,Income,RomanticGestureScore,CommunicationScore,DistanceKM,AgeCategory))\n",
    "E = np.zeros(q)\n",
    "Etm = np.zeros(numEpocas) "
   ]
  },
  {
   "cell_type": "code",
   "execution_count": 43,
   "metadata": {},
   "outputs": [
    {
     "name": "stdout",
     "output_type": "stream",
     "text": [
      "[[  157   141   143 ...   172   192   140]\n",
      " [   23    80    56 ...    89    60    75]\n",
      " [ 9813  9543 43513 ... 37641 15706 47621]\n",
      " ...\n",
      " [    4     9     2 ...     3     6     9]\n",
      " [   81    14    55 ...     6    94    51]\n",
      " [    0     1     2 ...     1     1     1]]\n"
     ]
    }
   ],
   "source": [
    "print(X)\n",
    "\n",
    "def think_Hyperbolic(W,array):\n",
    "    return np.tanh(W.dot(array))\n",
    "\n",
    "def think_Relu(W,array):\n",
    "      return np.maximum(W.dot(array))\n",
    "\n",
    "def think_sigmoid(W, array):\n",
    "        return 1 / (1 + exp(-(W.dot(array))))\n"
   ]
  },
  {
   "cell_type": "code",
   "execution_count": 49,
   "metadata": {},
   "outputs": [
    {
     "name": "stdout",
     "output_type": "stream",
     "text": [
      "[1.         0.99612341 0.99460667]\n"
     ]
    },
    {
     "ename": "ValueError",
     "evalue": "shapes (5,2) and (3,) not aligned: 2 (dim 1) != 3 (dim 0)",
     "output_type": "error",
     "traceback": [
      "\u001b[1;31m---------------------------------------------------------------------------\u001b[0m",
      "\u001b[1;31mValueError\u001b[0m                                Traceback (most recent call last)",
      "Cell \u001b[1;32mIn[49], line 22\u001b[0m\n\u001b[0;32m     20\u001b[0m \u001b[38;5;28mprint\u001b[39m(o4b)\n\u001b[0;32m     21\u001b[0m delta4 \u001b[38;5;241m=\u001b[39m np\u001b[38;5;241m.\u001b[39mdiag(\u001b[38;5;241m1\u001b[39m \u001b[38;5;241m-\u001b[39m o4b\u001b[38;5;241m*\u001b[39mo4b)\u001b[38;5;241m.\u001b[39mdot(vdelta5)\n\u001b[1;32m---> 22\u001b[0m vdelta4 \u001b[38;5;241m=\u001b[39m \u001b[43m(\u001b[49m\u001b[43mW4\u001b[49m\u001b[38;5;241;43m.\u001b[39;49m\u001b[43mtranspose\u001b[49m\u001b[43m(\u001b[49m\u001b[43m)\u001b[49m\u001b[43m)\u001b[49m\u001b[38;5;241;43m.\u001b[39;49m\u001b[43mdot\u001b[49m\u001b[43m(\u001b[49m\u001b[43mdelta4\u001b[49m\u001b[43m)\u001b[49m\n\u001b[0;32m     23\u001b[0m delta3 \u001b[38;5;241m=\u001b[39m np\u001b[38;5;241m.\u001b[39mdiag(\u001b[38;5;241m1\u001b[39m \u001b[38;5;241m-\u001b[39m o3b\u001b[38;5;241m*\u001b[39mo3b)\u001b[38;5;241m.\u001b[39mdot(vdelta4)\n\u001b[0;32m     24\u001b[0m vdelta3 \u001b[38;5;241m=\u001b[39m (W3\u001b[38;5;241m.\u001b[39mtranspose())\u001b[38;5;241m.\u001b[39mdot(delta3)\n",
      "\u001b[1;31mValueError\u001b[0m: shapes (5,2) and (3,) not aligned: 2 (dim 1) != 3 (dim 0)"
     ]
    }
   ],
   "source": [
    "for i in range(numEpocas):\n",
    "    for j in range(len(X[0])):\n",
    "\n",
    "        Xb = np.hstack((bias,X[:,j]))\n",
    "        o1 = think_Hyperbolic(W1,Xb)\n",
    "        o1b = np.insert(o1,0,bias)\n",
    "        o2 = think_Hyperbolic(W2,o1b)\n",
    "        o2b = np.insert(o2,0,bias)\n",
    "        o3 = think_Hyperbolic(W3,o2b)\n",
    "        o3b = np.insert(o3,0,bias)\n",
    "        o4 = think_Hyperbolic(W4,o3b)\n",
    "        o4b = np.insert(o4,0,bias)\n",
    "        Y = think_sigmoid(W5,o4b)\n",
    "\n",
    "        e = Response[j] - Y\n",
    "        E[j] = (e.transpose().dot(e))/2\n",
    "\n",
    "        delta5 = np.diag(e).dot((1 - Y*Y))\n",
    "        vdelta5 = (W5.transpose()).dot(delta5)\n",
    "        print(o4b)\n",
    "        delta4 = np.diag(1 - o4b*o4b).dot(vdelta5)\n",
    "        vdelta4 = (W4.transpose()).dot(delta4)\n",
    "        delta3 = np.diag(1 - o3b*o3b).dot(vdelta4)\n",
    "        vdelta3 = (W3.transpose()).dot(delta3)\n",
    "        delta2 = np.diag(1 - o2b*o2b).dot(vdelta2)\n",
    "        vdelta2 = (W3.transpose()).dot(delta2)\n",
    "        delta1 = np.diag(1 - o1b*o1b).dot(vdelta1)\n",
    "        vdelta1 = (W3.transpose()).dot(delta1)\n",
    "\n",
    "        W1 = W1 + eta*(np.outer(delta1[1:], Xb))\n",
    "        W2 = W2 + eta*(np.outer(delta2, o1b))\n",
    "        W3 = W3 + eta*(np.outer(delta3, o2b))\n",
    "        W4 = W4 + eta*(np.outer(delta4, o3b))\n",
    "        W5 = W5 + eta*(np.outer(delta5, o4b))\n",
    "\n",
    "Etm[i] = E.mean()\n",
    "\n"
   ]
  }
 ],
 "metadata": {
  "kernelspec": {
   "display_name": "Python 3",
   "language": "python",
   "name": "python3"
  },
  "language_info": {
   "codemirror_mode": {
    "name": "ipython",
    "version": 3
   },
   "file_extension": ".py",
   "mimetype": "text/x-python",
   "name": "python",
   "nbconvert_exporter": "python",
   "pygments_lexer": "ipython3",
   "version": "3.12.6"
  }
 },
 "nbformat": 4,
 "nbformat_minor": 2
}
